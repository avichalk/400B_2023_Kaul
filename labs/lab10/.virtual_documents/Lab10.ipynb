# import modules
import numpy as np
import astropy.units as u
from astropy.constants import G

# import plotting modules
import matplotlib.pyplot as plt
import matplotlib
get_ipython().run_line_magic("matplotlib", " inline")





class CosmologicalTools:
    # Define a class that provides functions to compute various cosmological quantities
    # for a given cosmology  
        
    def __init__(self, OmegaM0, OmegaR0, OmegaL0, h):
        """ initialize the instance of the class - for any given Cosmology
        
        PARAMETERS
        ----------
        OmegaM0: `float`
            the Matter density parameter at z=0
        
        OmegaR0: `float` 
            the radiation density parameter at z=0
        
        OmegaL0: `float`
            The dark energy density parameter at z=0
            
        h: `float` 
            the Normalization for the hubble parameter at z=0
        """
        
        OmegaTotal = OmegaM0 + OmegaR0 + OmegaL0
        # initialize the cosmology at z=0
        self.OmegaM0 = OmegaM0   ### Matter Density Parameter
        self.OmegaR0 = OmegaR0   ### Radiation Density Parameter
        self.OmegaL0 = OmegaL0 ### Dark Energy Density Parameter
        self.OmegaK0 = OmegaTotal - 1    #### Curvature Density Parameter
    
        self.h = h   # Normalization of Hubble Parameter   
        self.Ho = self.h*100*u.km/u.s/u.Mpc #  Hubble Constant at z=0  100 h km/s/Mpc
    
    
    # Question 1 A)
    def HubbleParameter(self, z):
        """  Method that defines the Hubble Parameter as a function of redshift
            H(z)^2 = H_o^2 [ OmegaM0(1+z)^3 + OmegaR0(1+z)^4 + OmegaLambda0 + OmegaK0(1+z)^2] 
        
        PARAMETERS
        ----------
            z: `float`
                redshift 
            
        RETURNS
        -------
            Hz: `float`
                The Hubble parameter at the given redshift in units of km/s/Mpc        
        """
        
        
        # FILL THIS IN 
        OmegaM = self.OmegaM0 * (1 + z)**3
        OmegaR = self.OmegaR0 * (1 + z)**4
        OmegaL = self.OmegaL0
        OmegaK = self.OmegaK0 * (1 + z)**2
        
        Hz = self.Ho * np.sqrt(OmegaM + OmegaR + OmegaL + OmegaK)
  
        return Hz
    
    
    # Question 2 A)
    def OmegaM_Z(self,z):
        """ Method that defines the matter density parameter as a function of redshift
        OmegaM0*(1+z)**3*(Ho/Hz)^2
        
        PARAMETERS
        ----------
        z  `float or np.ndarray`
            Redshift
        
        RETURNS
        -------
        OmegaM: `float or np.ndarray`
            Matter Density Parameter at the given redshift.
        """
        
        # FILL THIS IN
        OmegaM = self.OmegaM0 * (1 + z)**3 * (self.Ho / self.HubbleParameter(z)) ** 2
        
        return OmegaM
    
    def OmegaR_Z(self,z):
        """ Method that defines the radiation density parameter as a function of redshift
         OmegaR0*(1+z)**4*(Ho/Hz)^2
         
        PARAMETERS
        ----------
        z  `float or np.ndarray`
            Redshift
        
        RETURNS
        -------
        OmegaR: `float or np.ndarray`
            Radiation Density Parameter at the given redshift.
        """
        # FILL THIS IN
        
        OmegaR = self.OmegaR0 * (1 + z)**4 * (self.Ho / self.HubbleParameter(z)) ** 2
        
        return OmegaR
    
    
    def OmegaL_Z(self,z):
        """ Method that defines the dark energy density parameter as a function of redshift
        OmegaL0*(Ho/Hz)^2
        
        PARAMETERS
        ----------
        z  `float or np.ndarray`
            Redshift
        
        RETURNS
        -------
        OmegaL: `float or np.ndarray`
            Dark Energy Density Parameter at the given redshift.
        """
        # FILL THIS IN
        OmegaL = self.OmegaL0 * (self.Ho / self.HubbleParameter(z)) ** 2
        return OmegaL
    
    
    



# Define the benchmark cosmology at z =0
# Planck 2015 results. XIII. Cosmological parameters   
# Planck Collaboration+2016 A&A 594 13  Table 4, column 2 

OmegaM0_planck = 0.308   # Matter Density Parameter
OmegaR0_planck = 8.24e-5  # Radiation Density Parameter
OmegaL0_planck = 0.692  # Dark Energy Density Parameter
h_planck = 0.6781   # Hubble Constant  100 h km/s/Mpc
  


# Define here an instance of the Class Cosmological Tools that follows the Benchmark Cosmology
thing = CosmologicalTools(OmegaM0_planck, OmegaR0_planck, OmegaL0_planck, h_planck)


# Question 1 B) 

# Test Hubble Parameter at z = 0
thing.HubbleParameter(0)



# Question 1 C) 

# Compute the Hubble Parameter at z = 1 in BenchMark Cosmology
thing.HubbleParameter(1)


# Question 1 D) 
# Define the cosmology for the Einstein De Sitter Universe
OmegaMD = 1
OmegaRD = 0
OmegaLD = 0
# h is the same as in Benchmark Cosmology


# Define a New Instance of the Class with Einstein De Sitter Cosmology 
only_dark_matter = CosmologicalTools(OmegaMD, OmegaRD, OmegaLD, h_planck)


# Compute the Hubble Parameter at z = 1.0 in Einstein De Sitter Cosmology
only_dark_matter.HubbleParameter(1)


# Question 2 B) 


# Plot the Redshift Evolution of OmegaM, OmegaR and OmegaL
############################################################

fig = plt.figure(figsize=(10,10))
ax = plt.subplot(111)

# Define an array of redshift 
zmax = 10**5
zmin = -0.9
zrange = np.arange(zmin, zmax, 0.01)

OmegaM_z = thing.OmegaM_Z(zrange)
OmegaR_z = thing.OmegaR_Z(zrange)
OmegaL_z = thing.OmegaL_Z(zrange)

# Evolution of Matter Density Parameter as a function of 1+z
# FILL THIS IN
plt.semilogx(1+zrange,OmegaM_z , color='blue', linewidth=5, label=r'$\Omega_M$(z)')

# Evolution of Radiation Density Parameter 
# FILL THIS IN 
plt.semilogx( 1+zrange,OmegaR_z , color='red', linewidth=5, label=r'$\Omega_R$(z)')

# Evolution of Dark Energy Density Parameter 
# FILL THIS IN
plt.semilogx(1+zrange,OmegaL_z  , color='black', linewidth=5, label=r'$\Omega_L$(z)')


plt.axvline(x=1)

# Add axis labels
plt.xlabel('1+z', fontsize=22)
plt.ylabel(r'$\Omega$(z)', fontsize=22)


#adjust tick label font size
label_size = 22
matplotlib.rcParams['xtick.labelsize'] = label_size 
matplotlib.rcParams['ytick.labelsize'] = label_size


legend = ax.legend(loc='upper center', fontsize='x-large', 
                   bbox_to_anchor=(0.5, 1.05),ncol=3, fancybox=True, shadow=True)

# Save to a file
plt.savefig('Lab10_DensityParameterEvolution.png')


## 10^4 - 10^5
idx = np.where(OmegaR_z > OmegaM_z)
x = zrange[idx[0][0]]
print(x)


## Future
idx = np.where(OmegaL_z > OmegaM_z)
x = zrange[idx[0][0]]
print(x)



