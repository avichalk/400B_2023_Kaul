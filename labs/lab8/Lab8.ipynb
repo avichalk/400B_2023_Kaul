{
 "cells": [
  {
   "cell_type": "markdown",
   "metadata": {},
   "source": [
    "# Lab 8 : Star Formation "
   ]
  },
  {
   "cell_type": "code",
   "execution_count": 5,
   "metadata": {
    "tags": []
   },
   "outputs": [],
   "source": [
    "import numpy as np\n",
    "from astropy import units as u\n",
    "from astropy import constants as const\n",
    "\n",
    "import matplotlib\n",
    "import matplotlib.pyplot as plt\n",
    "from matplotlib.colors import LogNorm\n",
    "%matplotlib inline"
   ]
  },
  {
   "cell_type": "markdown",
   "metadata": {},
   "source": [
    "# Part A\n",
    "\n",
    "Create a function that returns the SFR for a given luminosity (NUV, FUV, TIR, Halpha)\n",
    "\n",
    "$Log( {\\rm SFR} (M_\\odot/year)) = Log(Lx (erg/s)) - Log(Cx)$ \n",
    "\n",
    "Including corrections for dust absorption \n",
    "\n",
    "Kennicutt & Evans 2012 ARA&A Equation 12 and Table 1, 2"
   ]
  },
  {
   "cell_type": "code",
   "execution_count": 23,
   "metadata": {
    "tags": []
   },
   "outputs": [],
   "source": [
    "def StarFormationRate(L, Type, TIR=0, ):\n",
    "    \"\"\" Computes the star formation rate of a galaxy following\n",
    "    Kennicuttt and Evans (2012) Eqn. 12 (ARA&A 50)\n",
    "    \n",
    "    Inputs:\n",
    "        L : `float`\n",
    "            Luminosity of the galaxy in a given waveband (erg/s)\n",
    "            \n",
    "        Type : `string`\n",
    "            The wavelength: \"FUV\", \"NUV\", \"TIR\", \"HAlpha\"\n",
    "        \n",
    "        TIR : `float`\n",
    "            Total infrared luminosity in ergs/s (default = 0)\n",
    "        \n",
    "    Outputs:\n",
    "        SFR : `float`\n",
    "            Log of the star formation rate (Msun/yr)\n",
    "    \n",
    "    \"\"\"\n",
    "    params = {\"FUV\":[43.45, 0.46], \"NUV\":[43.17, 0.27], \"HAlpha\":[41.27, 0.0024], \"TIR\":[43.41, 0]}\n",
    "    \n",
    "    try:\n",
    "        logCx, TIRc = params[Type]\n",
    "    except:\n",
    "        print(f\"Your input does not match the options {[i for i in params]}\")\n",
    "        return\n",
    "    \n",
    "    # correct luminosity for dust using TIR\n",
    "    Lnew = L + TIRc*TIR\n",
    "    \n",
    "    SFR = np.log10(Lnew) - logCx\n",
    "    \n",
    "    return SFR"
   ]
  },
  {
   "cell_type": "markdown",
   "metadata": {},
   "source": [
    "Let's try to reproduce SFRs derived for galaxies from UV luminosities measured with Galex. \n",
    "\n",
    "Using Table 1 from Lee et al. 2009\n",
    "https://ui.adsabs.harvard.edu/abs/2009ApJ...706..599L/abstract\n",
    "\n",
    "We will use galaxy properties from NED:\n",
    "https://ned.ipac.caltech.edu/"
   ]
  },
  {
   "cell_type": "code",
   "execution_count": 28,
   "metadata": {
    "tags": []
   },
   "outputs": [
    {
     "name": "stdout",
     "output_type": "stream",
     "text": [
      "-2.348688855167346\n"
     ]
    }
   ],
   "source": [
    "#  WLM Dwarf Irregular Galaxy\n",
    "# (Data from NED) Luminosity : 1.71e7 Lsun, NIR: 2.48e6 Lsun, FIR: 7.84e5 Lsun\n",
    "\n",
    "LsunErgS = const.L_sun.to(u.erg/u.s).value\n",
    "NUV_WLM = 1.71e7 * LsunErgS\n",
    "TIR_WLM = 2.48e6 + 7.84e5 * LsunErgS\n",
    "\n",
    "print(StarFormationRate(NUV_WLM, 'NUV', TIR_WLM))"
   ]
  },
  {
   "cell_type": "code",
   "execution_count": 29,
   "metadata": {
    "tags": []
   },
   "outputs": [
    {
     "name": "stdout",
     "output_type": "stream",
     "text": [
      "-1.0078964050716621\n"
     ]
    }
   ],
   "source": [
    "#  NGC24 Sc galaxy\n",
    "# (Data from NED) Luminosity :  2.96E+08 , NIR: 8.34E+08 , FIR : 3.09E+08\n",
    "\n",
    "NUV_NGC = 2.96e8 * LsunErgS\n",
    "TIR_NGC = 8.34e8 + 3.09e8 * LsunErgS\n",
    "\n",
    "print(StarFormationRate(NUV_NGC, 'NUV', TIR_NGC))"
   ]
  },
  {
   "cell_type": "markdown",
   "metadata": {},
   "source": [
    "# Part B Star formation main sequence\n",
    "\n",
    "1) Write a function that returns the average SFR of a galaxy at a given redshift. \n",
    "\n",
    "2) What is the average SFR of a MW mass galaxy today? at z=1?\n",
    "\n",
    "3) Plot the SFR main sequence for a few different redshifts from 1e9 to 1e12 Msun.\n",
    "\n",
    "\n",
    "From Whitaker 2012:\n",
    "\n",
    "log(SFR) = $\\alpha(z)({\\rm log}M_\\ast - 10.5) + \\beta(z)$\n",
    "\n",
    "$\\alpha(z) = 0.7 - 0.13z$\n",
    "\n",
    "$\\beta(z) = 0.38 + 1.14z - 0.19z^2$"
   ]
  },
  {
   "cell_type": "markdown",
   "metadata": {},
   "source": [
    "# Step 1"
   ]
  },
  {
   "cell_type": "code",
   "execution_count": 32,
   "metadata": {
    "tags": []
   },
   "outputs": [],
   "source": [
    "def SFRMainSequence(Mstar, z):\n",
    "    \"\"\" Function that computes the aerage SFR of a galaxy\n",
    "    as a function of the Stellar Mass.\n",
    "    \n",
    "    Inputs:\n",
    "        MSTAR : `float`\n",
    "            stellar mass of the galaxy in Msun\n",
    "        \n",
    "        z : `float`\n",
    "            redshift\n",
    "    \n",
    "    Outputs: \n",
    "        logSFr : `float`\n",
    "            log(SFR (Msun/yr))\n",
    "    \"\"\"\n",
    "    \n",
    "    alpha = 0.7 - 0.13 * z\n",
    "    beta = 0.38 + 1.14 * z - 0.19 * z ** 2\n",
    "    logSFR = alpha * (np.log10(Mstar) - 10.5) + beta\n",
    "    \n",
    "    return logSFR"
   ]
  },
  {
   "cell_type": "markdown",
   "metadata": {},
   "source": [
    "# Step 2"
   ]
  },
  {
   "cell_type": "code",
   "execution_count": 36,
   "metadata": {
    "tags": []
   },
   "outputs": [
    {
     "name": "stdout",
     "output_type": "stream",
     "text": [
      "4.5937038237959715\n"
     ]
    }
   ],
   "source": [
    "# MW at z=0\n",
    "print(10**SFRMainSequence(8e10, 0))"
   ]
  },
  {
   "cell_type": "code",
   "execution_count": 35,
   "metadata": {
    "tags": []
   },
   "outputs": [
    {
     "name": "stdout",
     "output_type": "stream",
     "text": [
      "36.287854588142594\n"
     ]
    }
   ],
   "source": [
    "# MW at z = 1\n",
    "print(10**SFRMainSequence(8e10, 1))"
   ]
  },
  {
   "cell_type": "markdown",
   "metadata": {},
   "source": [
    "# Step 3"
   ]
  },
  {
   "cell_type": "code",
   "execution_count": null,
   "metadata": {},
   "outputs": [],
   "source": [
    "# create an array of stellar masses\n"
   ]
  },
  {
   "cell_type": "code",
   "execution_count": null,
   "metadata": {},
   "outputs": [],
   "source": [
    "\n",
    "fig = plt.figure(figsize=(8,8), dpi=500)\n",
    "ax = plt.subplot(111)\n",
    "\n",
    "# add log log plots\n",
    "\n",
    "\n",
    "# Add axis labels\n",
    "plt.xlabel('Log (Mstar (M$_\\odot$))', fontsize=12)\n",
    "plt.ylabel('Log(SFR (M$_\\odot$/year))', fontsize=12)\n",
    "\n",
    "\n",
    "#adjust tick label font size\n",
    "label_size = 12\n",
    "matplotlib.rcParams['xtick.labelsize'] = label_size \n",
    "matplotlib.rcParams['ytick.labelsize'] = label_size\n",
    "\n",
    "# add a legend with some customizations.\n",
    "legend = ax.legend(loc='upper left',fontsize='x-large')\n"
   ]
  },
  {
   "cell_type": "markdown",
   "metadata": {},
   "source": [
    "# Part C  Starbursts\n",
    "\n",
    "Use your `StarFormationRate` code to determine the typical star formation rates for the following systems with the listed Total Infrared Luminosities (TIR): \n",
    "\n",
    "Normal Galaxies: $10^{10}$ L$_\\odot$\n",
    "\n",
    "LIRG: $10^{11}$ L$_\\odot$\n",
    "\n",
    "ULIRG: $10^{12} $ L$_\\odot$\n",
    "\n",
    "HLIRG: $10^{13} $ L$_\\odot$"
   ]
  },
  {
   "cell_type": "code",
   "execution_count": null,
   "metadata": {},
   "outputs": [],
   "source": [
    "# normal galaxies \n"
   ]
  },
  {
   "cell_type": "code",
   "execution_count": null,
   "metadata": {},
   "outputs": [],
   "source": [
    "# LIRGs  \n"
   ]
  },
  {
   "cell_type": "code",
   "execution_count": null,
   "metadata": {},
   "outputs": [],
   "source": [
    "# ULIRGs"
   ]
  },
  {
   "cell_type": "code",
   "execution_count": null,
   "metadata": {},
   "outputs": [],
   "source": [
    "# HLIRGs"
   ]
  },
  {
   "cell_type": "code",
   "execution_count": null,
   "metadata": {},
   "outputs": [],
   "source": []
  }
 ],
 "metadata": {
  "kernelspec": {
   "display_name": "Python 3 (ipykernel)",
   "language": "python",
   "name": "python3"
  },
  "language_info": {
   "codemirror_mode": {
    "name": "ipython",
    "version": 3
   },
   "file_extension": ".py",
   "mimetype": "text/x-python",
   "name": "python",
   "nbconvert_exporter": "python",
   "pygments_lexer": "ipython3",
   "version": "3.10.10"
  }
 },
 "nbformat": 4,
 "nbformat_minor": 4
}
